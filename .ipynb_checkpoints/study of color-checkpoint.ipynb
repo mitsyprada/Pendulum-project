{
 "cells": [
  {
   "cell_type": "code",
   "execution_count": 25,
   "metadata": {},
   "outputs": [
    {
     "name": "stdout",
     "output_type": "stream",
     "text": [
      "Populating the interactive namespace from numpy and matplotlib\n"
     ]
    }
   ],
   "source": [
    "%pylab inline\n",
    "%matplotlib inline\n",
    "import numpy as np\n",
    "import cv2\n",
    "import time\n",
    "import matplotlib.pyplot as plt"
   ]
  },
  {
   "cell_type": "code",
   "execution_count": 37,
   "metadata": {},
   "outputs": [],
   "source": [
    "tapesBGR=['tape (1)','tape (2)','tape (3)','tape (4)','tape (5)','tape (6)','tape (7)','tape (8)','tape (9)','tape (10)']\n",
    "#tapesHSV=['tape1_hsv','tape2_hsv','tape3_hsv','tape4_hsv','tape5_hsv','tape6_hsv','tape7_hsv','tape8_hsv','tape9_hsv','tape10_hsv']"
   ]
  },
  {
   "cell_type": "code",
   "execution_count": 38,
   "metadata": {},
   "outputs": [],
   "source": [
    "N=10 #numbers of pictures analyzed\n",
    "\n",
    "max_R=np.zeros(N)\n",
    "max_G=np.zeros(N)\n",
    "max_B=np.zeros(N)\n",
    "max_H=np.zeros(N)\n",
    "max_S=np.zeros(N)\n",
    "max_V=np.zeros(N)\n",
    "\n",
    "min_R=np.zeros(N)\n",
    "min_G=np.zeros(N)\n",
    "min_B=np.zeros(N)\n",
    "min_H=np.zeros(N)\n",
    "min_S=np.zeros(N)\n",
    "min_V=np.zeros(N)\n",
    "\n",
    "av_R=np.zeros(N)\n",
    "av_G=np.zeros(N)\n",
    "av_B=np.zeros(N)\n",
    "av_H=np.zeros(N)\n",
    "av_S=np.zeros(N)\n",
    "av_V=np.zeros(N)\n",
    "\n",
    "var_R=np.zeros(N)\n",
    "var_G=np.zeros(N)\n",
    "var_B=np.zeros(N)\n",
    "var_H=np.zeros(N)\n",
    "var_S=np.zeros(N)\n",
    "var_V=np.zeros(N)"
   ]
  },
  {
   "cell_type": "code",
   "execution_count": 39,
   "metadata": {},
   "outputs": [],
   "source": [
    "for i in range(len(tapesBGR)):\n",
    "    max_R[i]=max(cv2.imread(tapesBGR[i]+'.JPG')[:,:,0].flatten())\n",
    "    max_G[i]=max(cv2.imread(tapesBGR[i]+'.JPG')[:,:,1].flatten())\n",
    "    max_B[i]=max(cv2.imread(tapesBGR[i]+'.JPG')[:,:,2].flatten())\n",
    "    \n",
    "    min_R[i]=min(cv2.imread(tapesBGR[i]+'.JPG')[:,:,0].flatten())\n",
    "    min_G[i]=min(cv2.imread(tapesBGR[i]+'.JPG')[:,:,1].flatten())\n",
    "    min_B[i]=min(cv2.imread(tapesBGR[i]+'.JPG')[:,:,2].flatten())\n",
    "    min_H[i]=min(cv2.cvtColor(cv2.imread(tapesBGR[i]+'.JPG'),cv2.COLOR_BGR2HSV)[:,:,0].flatten())\n",
    "    min_S[i]=min(cv2.cvtColor(cv2.imread(tapesBGR[i]+'.JPG'),cv2.COLOR_BGR2HSV)[:,:,1].flatten())\n",
    "    min_V[i]=min(cv2.cvtColor(cv2.imread(tapesBGR[i]+'.JPG'),cv2.COLOR_BGR2HSV)[:,:,2].flatten())\n",
    "\n",
    "    av_R[i]=np.average(cv2.imread(tapesBGR[i]+'.JPG')[:,:,0].flatten())\n",
    "    av_G[i]=np.average(cv2.imread(tapesBGR[i]+'.JPG')[:,:,1].flatten())\n",
    "    av_B[i]=np.average(cv2.imread(tapesBGR[i]+'.JPG')[:,:,1].flatten())\n",
    "    av_H[i]=np.average(cv2.cvtColor(cv2.imread(tapesBGR[i]+'.JPG'),cv2.COLOR_BGR2HSV)[:,:,0].flatten())\n",
    "    av_S[i]=np.average(cv2.cvtColor(cv2.imread(tapesBGR[i]+'.JPG'),cv2.COLOR_BGR2HSV)[:,:,1].flatten())\n",
    "    av_V[i]=np.average(cv2.cvtColor(cv2.imread(tapesBGR[i]+'.JPG'),cv2.COLOR_BGR2HSV)[:,:,2].flatten())\n",
    "\n",
    "    var_R[i]=np.var(cv2.imread(tapesBGR[i]+'.JPG')[:,:,0].flatten())\n",
    "    var_G[i]=np.var(cv2.imread(tapesBGR[i]+'.JPG')[:,:,1].flatten())\n",
    "    var_B[i]=np.var(cv2.imread(tapesBGR[i]+'.JPG')[:,:,2].flatten())\n",
    "    var_H[i]=np.var(cv2.cvtColor(cv2.imread(tapesBGR[i]+'.JPG'),cv2.COLOR_BGR2HSV)[:,:,0].flatten())\n",
    "    var_S[i]=np.var(cv2.cvtColor(cv2.imread(tapesBGR[i]+'.JPG'),cv2.COLOR_BGR2HSV)[:,:,1].flatten())\n",
    "    var_V[i]=np.var(cv2.cvtColor(cv2.imread(tapesBGR[i]+'.JPG'),cv2.COLOR_BGR2HSV)[:,:,2].flatten())\n",
    "    "
   ]
  },
  {
   "cell_type": "code",
   "execution_count": 40,
   "metadata": {},
   "outputs": [],
   "source": [
    "max_r=0\n",
    "max_g=0\n",
    "max_b=0\n",
    "\n",
    "min_r=0\n",
    "min_g=0\n",
    "min_b=0\n",
    "\n",
    "av_r=0\n",
    "av_g=0\n",
    "av_b=0\n",
    "\n",
    "var_r=0\n",
    "var_g=0\n",
    "var_b=0\n",
    "\n",
    "max_h=0\n",
    "max_s=0\n",
    "max_v=0\n",
    "\n",
    "min_h=0\n",
    "min_s=0\n",
    "min_v=0\n",
    "\n",
    "av_h=0\n",
    "av_s=0\n",
    "av_v=0\n",
    "\n",
    "var_h=0\n",
    "var_s=0\n",
    "var_v=0\n",
    "\n",
    "for i in range(len(tapesBGR)):\n",
    "    max_r=max_r+max_R[i]\n",
    "    max_g=max_g+max_G[i]\n",
    "    max_b=max_b+max_B[i]\n",
    "\n",
    "    min_r=min_r+min_R[i]\n",
    "    min_g=min_g+min_G[i]\n",
    "    min_b=min_b+min_B[i]\n",
    "\n",
    "    av_r=av_r+av_R[i]\n",
    "    av_g=av_g+av_G[i]\n",
    "    av_b=av_b+av_B[i]\n",
    "\n",
    "    var_r=var_r+var_R[i]\n",
    "    var_g=var_g+var_G[i]\n",
    "    var_b=var_b+var_B[i]\n",
    "\n",
    "    max_h=max_h+max_H[i]\n",
    "    max_s=max_s+max_S[i]\n",
    "    max_v=max_v+max_V[i]\n",
    "\n",
    "    min_h=min_h+min_H[i]\n",
    "    min_s=min_s+min_S[i]\n",
    "    min_v=min_v+min_V[i]\n",
    "\n",
    "    av_h=av_h+av_H[i]\n",
    "    av_s=av_s+av_S[i]\n",
    "    av_v=av_v+av_V[i]\n",
    "\n",
    "    var_h=var_h+var_H[i]\n",
    "    var_s=var_s+var_S[i]\n",
    "    var_v=var_v+var_V[i]\n",
    "    \n"
   ]
  },
  {
   "cell_type": "code",
   "execution_count": 41,
   "metadata": {},
   "outputs": [],
   "source": [
    "max_r=max_r/N\n",
    "max_g=max_g/N\n",
    "max_b=max_b/N\n",
    "\n",
    "min_r=min_r/N\n",
    "min_g=min_g/N\n",
    "min_b=min_b/N\n",
    "\n",
    "av_r=av_r/N\n",
    "av_g=av_g/N\n",
    "av_b=av_b/N\n",
    "\n",
    "var_r=var_r/N\n",
    "var_g=var_g/N\n",
    "var_b=var_b/N\n",
    "\n",
    "max_h=max_h/N\n",
    "max_s=max_s/N\n",
    "max_v=max_v/N\n",
    "\n",
    "min_h=min_h/N\n",
    "min_s=min_s/N\n",
    "min_v=min_v/N\n",
    "\n",
    "av_h=av_h/N\n",
    "av_s=av_s/N\n",
    "av_v=av_v/N\n",
    "\n",
    "var_h=var_h/N\n",
    "var_s=var_s/N\n",
    "var_v=var_v/N"
   ]
  },
  {
   "cell_type": "code",
   "execution_count": 42,
   "metadata": {},
   "outputs": [
    {
     "name": "stdout",
     "output_type": "stream",
     "text": [
      "118.7\n"
     ]
    }
   ],
   "source": [
    "print(max_r)"
   ]
  },
  {
   "cell_type": "code",
   "execution_count": null,
   "metadata": {},
   "outputs": [],
   "source": []
  }
 ],
 "metadata": {
  "kernelspec": {
   "display_name": "Python 3",
   "language": "python",
   "name": "python3"
  },
  "language_info": {
   "codemirror_mode": {
    "name": "ipython",
    "version": 3
   },
   "file_extension": ".py",
   "mimetype": "text/x-python",
   "name": "python",
   "nbconvert_exporter": "python",
   "pygments_lexer": "ipython3",
   "version": "3.7.1"
  }
 },
 "nbformat": 4,
 "nbformat_minor": 2
}
