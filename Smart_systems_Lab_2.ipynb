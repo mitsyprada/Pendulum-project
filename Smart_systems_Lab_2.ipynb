{
 "cells": [
  {
   "cell_type": "code",
   "execution_count": 111,
   "metadata": {},
   "outputs": [],
   "source": [
    "import serial\n",
    "arduinoData = serial.Serial('com3', 115200)"
   ]
  },
  {
   "cell_type": "markdown",
   "metadata": {},
   "source": [
    "In this lab it is key to make some recodings of (1) the pendulum and (2) the motor acceleration as tranlated in linear motion.\n",
    "Here you can change some controls as function. The main thing you need to do now is to make seperate recordings of different controls. Make sure you keep track of which recording belongs to which settings. Only send times between 0 and 999 miliseconds."
   ]
  },
  {
   "cell_type": "code",
   "execution_count": 112,
   "metadata": {},
   "outputs": [],
   "source": [
    "def control_motor(direction, time):\n",
    "    d = int(direction+1)\n",
    "    if time < 100: \n",
    "        z = str(d) + '00' + str(time)\n",
    "    else:\n",
    "        z = str(d) + '0' + str(time)\n",
    "    \n",
    "    f = bytes(z, encoding='utf-8')\n",
    "    print(z)\n",
    "    arduinoData.write(f)"
   ]
  },
  {
   "cell_type": "code",
   "execution_count": 99,
   "metadata": {},
   "outputs": [
    {
     "name": "stdout",
     "output_type": "stream",
     "text": [
      "10030\n"
     ]
    }
   ],
   "source": [
    "#call the motor control with direction 0 or 1, time im miliseconds\n",
    "control_motor(0, 30)"
   ]
  },
  {
   "cell_type": "code",
   "execution_count": 93,
   "metadata": {},
   "outputs": [],
   "source": [
    "arduinoData.close()"
   ]
  },
  {
   "cell_type": "code",
   "execution_count": 100,
   "metadata": {},
   "outputs": [
    {
     "name": "stdout",
     "output_type": "stream",
     "text": [
      "10100\n"
     ]
    }
   ],
   "source": [
    "#Examples\n",
    "control_motor(0, 100)"
   ]
  },
  {
   "cell_type": "code",
   "execution_count": 101,
   "metadata": {},
   "outputs": [
    {
     "name": "stdout",
     "output_type": "stream",
     "text": [
      "10150\n"
     ]
    }
   ],
   "source": [
    "#Examples\n",
    "control_motor(0, 150)"
   ]
  },
  {
   "cell_type": "code",
   "execution_count": 102,
   "metadata": {},
   "outputs": [
    {
     "name": "stdout",
     "output_type": "stream",
     "text": [
      "20100\n"
     ]
    }
   ],
   "source": [
    "#Examples\n",
    "control_motor(1, 100)"
   ]
  },
  {
   "cell_type": "code",
   "execution_count": 104,
   "metadata": {},
   "outputs": [
    {
     "name": "stdout",
     "output_type": "stream",
     "text": [
      "20200\n"
     ]
    }
   ],
   "source": [
    "#Examples\n",
    "control_motor(1, 200)"
   ]
  },
  {
   "cell_type": "code",
   "execution_count": 114,
   "metadata": {},
   "outputs": [
    {
     "name": "stdout",
     "output_type": "stream",
     "text": [
      "1 10\n",
      "20010\n",
      "0 20\n",
      "10020\n",
      "1 30\n",
      "20030\n",
      "0 40\n",
      "10040\n",
      "1 50\n",
      "20050\n",
      "0 60\n",
      "10060\n",
      "1 70\n",
      "20070\n",
      "0 80\n",
      "10080\n",
      "1 90\n",
      "20090\n"
     ]
    }
   ],
   "source": [
    "#example loop, where we change the direction every update and increase the speed aswell.\n",
    "import time\n",
    "for i in range(1,10):\n",
    "    #Examples\n",
    "    print(i%2, i*10)\n",
    "    control_motor(i%2, i*10)\n",
    "    time.sleep(5)"
   ]
  },
  {
   "cell_type": "code",
   "execution_count": null,
   "metadata": {},
   "outputs": [],
   "source": []
  }
 ],
 "metadata": {
  "kernelspec": {
   "display_name": "Python 3",
   "language": "python",
   "name": "python3"
  },
  "language_info": {
   "codemirror_mode": {
    "name": "ipython",
    "version": 3
   },
   "file_extension": ".py",
   "mimetype": "text/x-python",
   "name": "python",
   "nbconvert_exporter": "python",
   "pygments_lexer": "ipython3",
   "version": "3.7.4"
  }
 },
 "nbformat": 4,
 "nbformat_minor": 2
}
