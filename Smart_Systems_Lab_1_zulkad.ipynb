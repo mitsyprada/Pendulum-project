{
 "cells": [
  {
   "cell_type": "markdown",
   "metadata": {},
   "source": [
    "# Lab 1 - Moddeling, Model analyses & Simulation\n",
    "\n",
    "In this lab we will create an model of the inverted pendulum problem.  \n",
    "You will do the following things individualy, you are allowed to discuss.\n",
    "\n",
    "* Create a basic model of a regular pendulum\n",
    "* Create a phase portraid of the pendulum's behaviour using numerical methods\n",
    "* Changing the carataristics of the model manualy to match with the real-word model\n",
    "* Add the remaining actuation to the model\n",
    "* Create a function to infuence the amount of actuation (from discreet to continuem)\n",
    "* Expiriment to see if you can bring the pendulum in the uprigt position  \n",
    "\n",
    "In the next lab we will control the pendulum by top down reasoning, meaning given that the position of the pendulum is x how should we control the motor.  \n",
    "Also you will need to think about stagegies to recenter the pendulum pivot point and measure the angle of the pendulum."
   ]
  },
  {
   "cell_type": "code",
   "execution_count": 1,
   "metadata": {},
   "outputs": [],
   "source": [
    "#you will need math, numpy and matplotlib for this lab\n",
    "import math\n",
    "import numpy as np\n",
    "import matplotlib.pyplot as plt"
   ]
  },
  {
   "cell_type": "markdown",
   "metadata": {},
   "source": [
    "Watch: https://www.youtube.com/watch?v=p_di4Zn4wz4  \n",
    "There will be parts of the video that you could use as a guidance in this lab.  \n",
    "Also read chapter 6.7 in the book nonlinear dynamics and chaos on BB.  \n",
    "Additional info on State space > https://www.youtube.com/watch?v=hpeKrMG-WP0 \n",
    "\n",
    "**Question [5 points]:** write down the equation of angular acceleration of the pendulum"
   ]
  },
  {
   "cell_type": "code",
   "execution_count": 2,
   "metadata": {},
   "outputs": [],
   "source": [
    "# 3 constants will be given, that of gravity, length of the pendulum and air resitance (mu), try to estimate L and mu\n",
    "g = 9.8\n",
    "L = 1\n",
    "mu = 0.3"
   ]
  },
  {
   "cell_type": "code",
   "execution_count": 3,
   "metadata": {},
   "outputs": [],
   "source": [
    "# return \n",
    "def get_theta_double_dot(theta, theta_dot):\n",
    "    return -mu*theta_dot - g/L*math.sin(theta)\n",
    "    ''' return the angular acceleration of the pendulum theta is the angle, thata dot the angular velocity'''  "
   ]
  },
  {
   "cell_type": "code",
   "execution_count": 4,
   "metadata": {},
   "outputs": [],
   "source": [
    "# Initial angle and speed\n",
    "THETA_0 = np.pi/3\n",
    "THETA_DOT_0 = 1"
   ]
  },
  {
   "cell_type": "markdown",
   "metadata": {},
   "source": [
    "With the initial conditions known, the value of the angle can be calulated numerically.  "
   ]
  },
  {
   "cell_type": "code",
   "execution_count": 5,
   "metadata": {},
   "outputs": [],
   "source": [
    "# Solving the angular behaviour of the pendulum numerically for an given input time t (in seconds).\n",
    "# From now we will call this the simulation\n",
    "def state(t):\n",
    "    theta_list = []\n",
    "    theta_dot_list = []\n",
    "    theta = THETA_0\n",
    "    theta_dot = THETA_DOT_0\n",
    "    delta_t = 0.01\n",
    "    for time in np.arange(0,t,delta_t):\n",
    "        theta_double_dot = get_theta_double_dot(theta, theta_dot)\n",
    "        theta_dot += theta_double_dot * delta_t\n",
    "        theta += theta_dot * delta_t\n",
    "        \n",
    "        theta_list.append(theta)\n",
    "        theta_dot_list.append(theta_dot)\n",
    "        \n",
    "    return theta, theta_dot, theta_list, theta_dot_list"
   ]
  },
  {
   "cell_type": "code",
   "execution_count": 6,
   "metadata": {},
   "outputs": [
    {
     "data": {
      "text/plain": [
       "(3.141592653589793,\n",
       " -1.2001538631644061e-17,\n",
       " [3.141592653589793],\n",
       " [-1.2001538631644061e-17])"
      ]
     },
     "execution_count": 6,
     "metadata": {},
     "output_type": "execute_result"
    }
   ],
   "source": [
    "THETA_0 = np.pi\n",
    "THETA_DOT_0 = 0.\n",
    "state(0.01)"
   ]
  },
  {
   "cell_type": "code",
   "execution_count": 7,
   "metadata": {},
   "outputs": [
    {
     "name": "stdout",
     "output_type": "stream",
     "text": [
      "0.7853981633974483\n",
      "(0.9424332236354912, 1.2069319133828884)\n",
      "(0.3521666070991959, 2.0686059362862412)\n",
      "(-0.23115582725424152, -1.892887273469975)\n"
     ]
    }
   ],
   "source": [
    "# try some different values of t, theta_0 and theta_dot_0 and explain what happens\n",
    "t_1 = 0.1\n",
    "t_2 = 2\n",
    "t_3 = 3\n",
    "THETA_0 = np.pi / 4\n",
    "THETA_DOT_0 = 2\n",
    "\n",
    "s_1 = state(t_1)\n",
    "s_2 = state(t_2)\n",
    "s_3 = state(t_3)\n",
    "print(THETA_0)\n",
    "print(s_1[:2])\n",
    "print(s_2[:2])\n",
    "print(s_3[:2])"
   ]
  },
  {
   "cell_type": "markdown",
   "metadata": {},
   "source": [
    "Now you can create an array of possible initial states THETA_0 and THETA_DOT_0  \n",
    "and calculate the derivative with def state(t) where t is equal to delta_t.   \n",
    "Create this data and display it similar to the example below.  \n",
    "**[5 points]:** Create the phase portrait from 0 to 4 Pi radius. "
   ]
  },
  {
   "cell_type": "code",
   "execution_count": 8,
   "metadata": {},
   "outputs": [
    {
     "name": "stdout",
     "output_type": "stream",
     "text": [
      "6.909703535443718\n"
     ]
    },
    {
     "data": {
      "text/plain": [
       "[<matplotlib.lines.Line2D at 0x7f83d578d610>]"
      ]
     },
     "execution_count": 8,
     "metadata": {},
     "output_type": "execute_result"
    },
    {
     "data": {
      "image/png": "[encoded data removed]",
      "text/plain": [
       "<Figure size 432x288 with 1 Axes>"
      ]
     },
     "metadata": {
      "needs_background": "light"
     },
     "output_type": "display_data"
    }
   ],
   "source": [
    "THETA_0 = np.pi / 4\n",
    "THETA_DOT_0 = 7\n",
    "_, _, theta_list, theta_dot_list = state(10)\n",
    "print(theta_dot_list[0])\n",
    "plt.plot(theta_list, theta_dot_list)"
   ]
  },
  {
   "cell_type": "code",
   "execution_count": null,
   "metadata": {},
   "outputs": [],
   "source": []
  },
  {
   "cell_type": "code",
   "execution_count": null,
   "metadata": {},
   "outputs": [],
   "source": [
    "#And example of how to display the estimated direction of angular behaviour (phase portrait)\n",
    "\n",
    "X = np.arange(0, 4*math.pi, 0.2).reshape(-1, 1) # theta\n",
    "Y = np.arange(-10, 10, 1).reshape(-1, 1) # theta_dot\n",
    "v_list = []\n",
    " \n",
    "for y in Y:\n",
    "    for x in X:\n",
    "        v = get_theta_double_dot(x, y)\n",
    "        v_list.append(v)\n",
    "# V is theta_double_dot\n",
    "V = np.asarray(v_list).reshape(Y.shape[0], X.shape[0])\n",
    "# U is theta_dot\n",
    "U = np.reshape(Y, (-1, 1))\n",
    "for i in range(len(X)-1):\n",
    "    U = np.vstack((U,Y))\n",
    "U = np.reshape(U, (Y.shape[0], X.shape[0]))\n",
    "print(X.shape)\n",
    "print(Y.shape)\n",
    "print(U.shape)\n",
    "print(V.shape)\n",
    "fig, ax = plt.subplots(figsize = (15,8))\n",
    "q = ax.quiver(X, Y, U, V)\n",
    "ax.quiverkey(q, X=0.3, Y=1.1, U=10,\n",
    "             label='Quiver key, length = 10', labelpos='E')\n",
    "plt.plot(theta_list, theta_dot_list)\n",
    "plt.show()"
   ]
  },
  {
   "cell_type": "markdown",
   "metadata": {},
   "source": [
    "When we add the motor, we are actualy applieng an additional force on the pendulum. Think of what would happen when the motor stops and the pendulum is in an horizontal possition, how is this stopping (negative acceleration) translated to the pendulum? Now think of what would happen if the pendulum is in a vertcal position. For now we only consider the effect on the pendulum (and not the motor). \n",
    "\n",
    "**Question [5 points]:** write down the equation of angular acceleration of the pendulum with acceleration of the motor included."
   ]
  },
  {
   "cell_type": "code",
   "execution_count": null,
   "metadata": {},
   "outputs": [],
   "source": [
    "# you will get an aditional value that infuences theta_double_dot\n",
    "g = 9.8\n",
    "L = 1\n",
    "mu = 0.3\n",
    "a = 3 "
   ]
  },
  {
   "cell_type": "code",
   "execution_count": null,
   "metadata": {},
   "outputs": [],
   "source": [
    "# add the new accelration parameter\n",
    "def get_theta_double_dot_with_a(theta, theta_dot, a_motor):\n",
    "    return -mu*theta_dot - g/L*math.sin(theta) - a_motor * math.cos(theta)\n",
    "''' return the angular acceleration of the pendulum. '''  "
   ]
  },
  {
   "cell_type": "markdown",
   "metadata": {},
   "source": [
    "Now that we have a new equation for the angular acceleration,  \n",
    "we should model the expected response of the motor when it is turned on.  \n",
    "In the prototype direction of motion, speed and duration are input to drive the motor.  \n",
    "for now we can assume that that only the motor speed is of infuence on the acceleration."
   ]
  },
  {
   "cell_type": "code",
   "execution_count": null,
   "metadata": {},
   "outputs": [],
   "source": [
    "'''\n",
    "a basic idea of what the acceleration of the motor could look like is shown below.\n",
    "feel free to come up with a more realistic version,   \n",
    "in the next lab we will expiriment to see what the actual acceleration functions look like\n",
    "with inversing the direction, these functions will be flipped. \n",
    "''' "
   ]
  },
  {
   "cell_type": "code",
   "execution_count": null,
   "metadata": {},
   "outputs": [],
   "source": [
    "%%html\n",
    "<?xml version=\"1.0\" encoding=\"utf-8\"?>\n",
    "<!-- Generator: Adobe Illustrator 16.0.0, SVG Export Plug-In . SVG Version: 6.00 Build 0)  -->\n",
    "<!DOCTYPE svg PUBLIC \"-//W3C//DTD SVG 1.1//EN\" \"http://www.w3.org/Graphics/SVG/1.1/DTD/svg11.dtd\">\n",
    "<svg version=\"1.1\" id=\"Layer_1\" xmlns=\"http://www.w3.org/2000/svg\" xmlns:xlink=\"http://www.w3.org/1999/xlink\" x=\"0px\" y=\"0px\"\n",
    "\t width=\"686.127px\" height=\"556.591px\" viewBox=\"0 0 686.127 556.591\" enable-background=\"new 0 0 686.127 556.591\"\n",
    "\t xml:space=\"preserve\">\n",
    "<path fill=\"#FFFFFF\" stroke=\"#000000\" stroke-miterlimit=\"10\" d=\"M52.001,112.578h22.535c0,0,3.521-59.859,64.084-59.859\n",
    "\tc57.042,0,62.676,59.859,62.676,59.859h159.858c0,0-0.704,72.387,68.311,71.683c56.335-0.575,56.338-75.908,56.338-75.908\"/>\n",
    "<path fill=\"#FFFFFF\" stroke=\"#000000\" stroke-miterlimit=\"10\" d=\"M52.367,259.761h22.535c0,0,0.027-102.817,60.591-102.817\n",
    "\tc57.042,0,66.17,102.817,66.17,102.817h159.858c0,0,0.728,107.743,69.746,107.746c59.536,0.003,54.902-111.971,54.902-111.971\"/>\n",
    "<path fill=\"#FFFFFF\" stroke=\"#000000\" stroke-miterlimit=\"10\" d=\"M52.409,427.366h22.535c0,0,3.521-59.859,64.084-59.859\n",
    "\tc57.042,0,62.676,59.859,62.676,59.859h320.858c0,0-2.704,72.387,66.311,71.682c56.335-0.574,56.339-75.906,56.339-75.906\"/>\n",
    "<line fill=\"none\" stroke=\"#000000\" stroke-miterlimit=\"10\" x1=\"52.001\" y1=\"23.845\" x2=\"52.001\" y2=\"518.916\"/>\n",
    "<rect x=\"18.521\" y=\"530.183\" fill=\"none\" width=\"124.648\" height=\"52.816\"/>\n",
    "<text transform=\"matrix(1 0 0 1 18.5215 538.7744)\" font-family=\"'ArialMT'\" font-size=\"12\">Start of motor</text>\n",
    "<rect x=\"302.07\" y=\"394.225\" fill=\"none\" width=\"124.648\" height=\"52.816\"/>\n",
    "<text transform=\"matrix(1 0 0 1 311.3618 402.8164)\"><tspan x=\"0\" y=\"0\" font-family=\"'ArialMT'\" font-size=\"12\">Increase duration of </tspan><tspan x=\"24.357\" y=\"14.4\" font-family=\"'ArialMT'\" font-size=\"12\">active time</tspan></text>\n",
    "<rect x=\"219.337\" y=\"235.817\" fill=\"none\" width=\"124.648\" height=\"52.816\"/>\n",
    "<text transform=\"matrix(1 0 0 1 240.6353 244.4087)\" font-family=\"'ArialMT'\" font-size=\"12\">Increase speed</text>\n",
    "<rect x=\"219.338\" y=\"58.208\" fill=\"none\" width=\"124.649\" height=\"52.816\"/>\n",
    "<text transform=\"matrix(1 0 0 1 222.6274 66.7998)\"><tspan x=\"0\" y=\"0\" font-family=\"'ArialMT'\" font-size=\"12\">Expected acceleration </tspan><tspan x=\"10.345\" y=\"14.4\" font-family=\"'ArialMT'\" font-size=\"12\">as function of time</tspan></text>\n",
    "</svg>\n"
   ]
  },
  {
   "cell_type": "markdown",
   "metadata": {},
   "source": [
    "**[5 points]:** Now create a class that creates these functions with inputs: direction, speed and duration (in simulation steps)"
   ]
  },
  {
   "cell_type": "code",
   "execution_count": null,
   "metadata": {},
   "outputs": [],
   "source": [
    "class Motor_Acc: # direction, speed, duration\n",
    "    def __init__(self, direction, speed, duration):\n",
    "        self.direction = direction\n",
    "        self.speed = speed\n",
    "        self.duration = duration\n",
    "        self.time = 0\n",
    "        self.func = self.create_func()\n",
    "    \n",
    "    def create_func(self):\n",
    "        func_list = []\n",
    "        if self.direction == 1: # right\n",
    "            acc = self.speed / self.duration\n",
    "            for i in range(self.duration):\n",
    "                func_list.append(acc)\n",
    "        \n",
    "        elif self.direction == 0: # left\n",
    "            acc = -1 * self.speed / self.duration        \n",
    "            for i in range(self.duration):\n",
    "                func_list.append(acc)\n",
    "        ''' Create a list of acceleration values so that every step correspons to a step in simulation.\n",
    "        Use the direction, speed and duration to create this list.\n",
    "        In a next Lab we will use the data of the prototype to fit a function. \n",
    "        If you want to create a function now, that is fine.\n",
    "        '''\n",
    "        return func_list #or some function\n",
    "        \n",
    "    def tik(self):\n",
    "        '''\n",
    "        return the acceleration at a given time and shift the time\n",
    "        '''\n",
    "        self.time = self.time + 1\n",
    "        if self.time < self.duration:\n",
    "            return self.func[self.time]\n",
    "        else:\n",
    "            return 0. #return an acceleration of 0\n",
    "    \n",
    "    def set_motor(self, direction, speed, duration):\n",
    "        self.direction = direction\n",
    "        self.speed = speed\n",
    "        self.duration = duration\n",
    "        self.time = 0\n",
    "        self.func = self.create_func()"
   ]
  },
  {
   "cell_type": "code",
   "execution_count": null,
   "metadata": {},
   "outputs": [],
   "source": [
    "# Now we can add the motor in the simulation\n",
    "direction = 1\n",
    "speed = 10\n",
    "duration = 2\n",
    "\n",
    "# Initial conditions of pendulum\n",
    "THETA_0 = 0\n",
    "THETA_DOT_0 = 0\n",
    "\n",
    "motor = Motor_Acc(direction, speed, duration)"
   ]
  },
  {
   "cell_type": "code",
   "execution_count": null,
   "metadata": {},
   "outputs": [],
   "source": [
    "# Solving the angular behaviour of the pendulum numerically for an given input time t (in seconds)\n",
    "def state_with_motor(t):\n",
    "    \n",
    "    theta = THETA_0\n",
    "    theta_dot = THETA_DOT_0\n",
    "    delta_t = 0.01\n",
    "    theta_sum = []\n",
    "    theta_dot_sum = []\n",
    "    for time in np.arange(0,t,delta_t):\n",
    "        '''\n",
    "        Now the motor is running from the strat of the simulation. \n",
    "        Eventually we want to strat the motor according to how we want to control it (next lab). \n",
    "        Now create 2 list to keep track of theta and theta_dot to visualize the progress.\n",
    "        '''\n",
    "        #Create lists\n",
    "        \n",
    "        a_of_motor = motor.tik()\n",
    "        \n",
    "        theta_double_dot = get_theta_double_dot_with_a(theta, theta_dot, a_of_motor)\n",
    "        theta += theta_dot * delta_t\n",
    "        theta_dot += theta_double_dot * delta_t\n",
    "        # append theta and theta_dot to lists\n",
    "        theta_sum.append(theta)\n",
    "        theta_dot_sum.append(theta_dot)\n",
    "    #return the lists\n",
    "    return theta_sum, theta_dot_sum"
   ]
  },
  {
   "cell_type": "code",
   "execution_count": null,
   "metadata": {},
   "outputs": [],
   "source": [
    "t = 5\n",
    "theta_sum, theta_dot_sum = state_with_motor(t)"
   ]
  },
  {
   "cell_type": "markdown",
   "metadata": {},
   "source": [
    "**[5 points]:** Create different motor controls and different initial conditions. \n",
    "Plot what happens and point out the first motor settings that will increase the angle the most. "
   ]
  },
  {
   "cell_type": "code",
   "execution_count": null,
   "metadata": {},
   "outputs": [],
   "source": [
    "x = 4\n",
    "fig, axs = plt.subplots(x, figsize=(8,15))\n",
    "\n",
    "t = 10\n",
    "directions = [0, 0, 1, 1 ]\n",
    "speeds = [20, 20, 20, 20]\n",
    "durations = [3, 2, 2, 2]\n",
    "\n",
    "# Initial conditions of pendulum # did not use them...\n",
    "# THETA_0s = [np.pi*0.3, np.pi*0.3, np.pi*0.3, np.pi*0.3]\n",
    "# THETA_DOT_0s = [0, 0, 0]\n",
    "\n",
    "for n in range(x):\n",
    "    motor = Motor_Acc(directions[n], speeds[n], durations[n])\n",
    "    theta_sum, theta_dot_sum = state_with_motor(t)\n",
    "    axs[n].plot(theta_sum, theta_dot_sum)\n"
   ]
  },
  {
   "cell_type": "markdown",
   "metadata": {},
   "source": [
    "**Bonus Question:** Create a 3d phase portait of the pendumum in terms of theta, theta_dot and motor acceleration. Use one acceleration function as sequential input in z (so the arrows will all point in one direction in the z-axis). This shows a time series evolution of the system for initial conditions theta and theta_dot given an motor function. Can you find areas where acceleration is of low effect and high effect?"
   ]
  },
  {
   "cell_type": "code",
   "execution_count": null,
   "metadata": {},
   "outputs": [],
   "source": [
    "%matplotlib notebook\n",
    "# This import registers the 3D projection, but is otherwise unused.\n",
    "from mpl_toolkits.mplot3d import Axes3D  # noqa: F401 unused import\n",
    "\n",
    "fig = plt.figure()\n",
    "ax = fig.gca(projection='3d')\n",
    "\n",
    "# Make the grid\n",
    "x, y, z = np.meshgrid(np.arange(-0.8, 1, 0.2),\n",
    "                      np.arange(-0.8, 1, 0.2),\n",
    "                      np.arange(-0.8, 1, 0.8))\n",
    "\n",
    "# Make the direction data for the arrows\n",
    "u = np.sin(np.pi * x) * np.cos(np.pi * y) * np.cos(np.pi * z)\n",
    "v = -np.cos(np.pi * x) * np.sin(np.pi * y) * np.cos(np.pi * z)\n",
    "w = (np.sqrt(2.0 / 3.0) * np.cos(np.pi * x) * np.cos(np.pi * y) *\n",
    "     np.sin(np.pi * z))\n",
    "\n",
    "ax.quiver(x, y, z, u, v, w, length=0.1, normalize=True)\n",
    "\n",
    "plt.show()"
   ]
  },
  {
   "cell_type": "code",
   "execution_count": null,
   "metadata": {},
   "outputs": [],
   "source": []
  }
 ],
 "metadata": {
  "kernelspec": {
   "display_name": "Python 3",
   "language": "python",
   "name": "python3"
  },
  "language_info": {
   "codemirror_mode": {
    "name": "ipython",
    "version": 3
   },
   "file_extension": ".py",
   "mimetype": "text/x-python",
   "name": "python",
   "nbconvert_exporter": "python",
   "pygments_lexer": "ipython3",
   "version": "3.7.6"
  }
 },
 "nbformat": 4,
 "nbformat_minor": 2
}
