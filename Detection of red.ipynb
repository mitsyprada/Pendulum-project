{
 "cells": [
  {
   "cell_type": "code",
   "execution_count": 1,
   "metadata": {},
   "outputs": [
    {
     "name": "stdout",
     "output_type": "stream",
     "text": [
      "Populating the interactive namespace from numpy and matplotlib\n"
     ]
    }
   ],
   "source": [
    "%pylab inline\n",
    "%matplotlib inline\n",
    "import numpy as np\n",
    "import cv2\n",
    "import time\n",
    "import matplotlib.pyplot as plt"
   ]
  },
  {
   "cell_type": "code",
   "execution_count": 3,
   "metadata": {},
   "outputs": [],
   "source": [
    "image = cv2.imread(\"dots.jpg\")\n",
    "hsv=cv2.cvtColor(image,cv2.COLOR_BGR2HSV)\n",
    "\n",
    "lower_red_hsv = np.array([170,100,0])\n",
    "upper_red_hsv = np.array([180,255,255])\n",
    "\n",
    "lower_red_bgr=np.array([0, 0, 30])\n",
    "upper_red_bgr=np.array([80, 80, 255])\n",
    "\n",
    "mask_hsv=cv2.inRange(img_hsv,lower_red_hsv,upper_red_hsv)\n",
    "mask_bgr=cv2.inRange(image,lower_red_bgr,upper_red_bgr)\n",
    "mask_hsv=mask_hsv.astype('bool')\n",
    "mask_bgr=mask_bgr.astype('bool')\n",
    "masks=mask_hsv+mask_bgr\n",
    "result=image*np.dstack((masks,masks,masks))\n",
    "#cv2.imshow('original image',image)#mask_hsv before 'bool' type\n",
    "#cv2.imshow('detection_hsv',mask_hsv)#mask_bgr before 'bool' type\n",
    "#cv2.imshow('detection_bgr',mask_bgr)\n",
    "cv2.imshow('detection_hsv+bgr',result)\n",
    "\n",
    "#myShow(\"Resulting image by adding both the masks\", im * np.dstack((im_red_ball_mask_full, im_red_ball_mask_full, im_red_ball_mask_full)))\n",
    "\n",
    "\n",
    "cv2.waitKey(0)\n",
    "cv2.destroyAllWindows()"
   ]
  },
  {
   "cell_type": "code",
   "execution_count": null,
   "metadata": {},
   "outputs": [],
   "source": []
  }
 ],
 "metadata": {
  "kernelspec": {
   "display_name": "Python 3",
   "language": "python",
   "name": "python3"
  },
  "language_info": {
   "codemirror_mode": {
    "name": "ipython",
    "version": 3
   },
   "file_extension": ".py",
   "mimetype": "text/x-python",
   "name": "python",
   "nbconvert_exporter": "python",
   "pygments_lexer": "ipython3",
   "version": "3.7.4"
  }
 },
 "nbformat": 4,
 "nbformat_minor": 2
}
