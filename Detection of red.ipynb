{
 "cells": [
  {
   "cell_type": "code",
   "execution_count": 28,
   "metadata": {},
   "outputs": [
    {
     "name": "stdout",
     "output_type": "stream",
     "text": [
      "Populating the interactive namespace from numpy and matplotlib\n"
     ]
    }
   ],
   "source": [
    "%pylab inline\n",
    "%matplotlib inline\n",
    "import numpy as np\n",
    "import cv2\n",
    "import time\n",
    "import matplotlib.pyplot as plt\n",
    "import imutils"
   ]
  },
  {
   "cell_type": "code",
   "execution_count": 7,
   "metadata": {},
   "outputs": [],
   "source": [
    "image = cv2.imread('dots.jpg')\n",
    "img_hsv=cv2.cvtColor(image,cv2.COLOR_BGR2HSV)\n",
    "\n",
    "lower_red_hsv = np.array([170,100,0])\n",
    "upper_red_hsv = np.array([180,255,255])\n",
    "\n",
    "lower_red_bgr=np.array([0, 0, 30])\n",
    "upper_red_bgr=np.array([80, 80, 255])\n",
    "\n",
    "mask_hsv=cv2.inRange(img_hsv,lower_red_hsv,upper_red_hsv)\n",
    "mask_bgr=cv2.inRange(image,lower_red_bgr,upper_red_bgr)\n",
    "mask_hsv=mask_hsv.astype('bool')\n",
    "mask_bgr=mask_bgr.astype('bool')\n",
    "masks=mask_hsv+mask_bgr\n",
    "result=image*np.dstack((masks,masks,masks))\n",
    "#cv2.imshow('original image',image)#mask_hsv before 'bool' type\n",
    "#cv2.imshow('detection_hsv',mask_hsv)#mask_bgr before 'bool' type\n",
    "#cv2.imshow('detection_bgr',mask_bgr)\n",
    "cv2.imshow('detection_hsv+bgr',result)\n",
    "\n",
    "#myShow(\"Resulting image by adding both the masks\", im * np.dstack((im_red_ball_mask_full, im_red_ball_mask_full, im_red_ball_mask_full)))\n",
    "\n",
    "\n",
    "cv2.waitKey(0)\n",
    "cv2.destroyAllWindows()"
   ]
  },
  {
   "cell_type": "code",
   "execution_count": 18,
   "metadata": {},
   "outputs": [],
   "source": [
    "image = cv2.imread('dots.jpg')\n",
    "img_hsv=cv2.cvtColor(image,cv2.COLOR_BGR2HSV)\n",
    "\n",
    "lower_red_hsv = np.array([170,100,0])\n",
    "upper_red_hsv = np.array([180,255,255])\n",
    "\n",
    "lower_red_bgr=np.array([0, 0, 30])\n",
    "upper_red_bgr=np.array([80, 80, 255])\n",
    "\n",
    "mask_hsv=cv2.inRange(img_hsv,lower_red_hsv,upper_red_hsv)\n",
    "mask_bgr=cv2.inRange(image,lower_red_bgr,upper_red_bgr)\n",
    "mask_hsv=mask_hsv.astype('bool')\n",
    "mask_bgr=mask_bgr.astype('bool')\n",
    "masks=mask_hsv+mask_bgr\n",
    "result=image*np.dstack((masks,masks,masks))\n",
    "cv2.imshow('original image',image)#mask_hsv before 'bool' type\n",
    "cv2.imshow('detection_hsv',mask_hsv)#mask_bgr before 'bool' type\n",
    "cv2.imshow('detection_bgr',mask_bgr)\n",
    "cv2.imshow('detection_hsv+bgr',masks)\n",
    "\n",
    "#myShow(\"Resulting image by adding both the masks\", im * np.dstack((im_red_ball_mask_full, im_red_ball_mask_full, im_red_ball_mask_full)))\n",
    "\n",
    "\n",
    "cv2.waitKey(0)\n",
    "cv2.destroyAllWindows()"
   ]
  },
  {
   "cell_type": "markdown",
   "metadata": {},
   "source": [
    "Just masks"
   ]
  },
  {
   "cell_type": "code",
   "execution_count": 23,
   "metadata": {},
   "outputs": [],
   "source": [
    "image = cv2.imread('dots.jpg')\n",
    "img_hsv=cv2.cvtColor(image,cv2.COLOR_BGR2HSV)\n",
    "\n",
    "lower_red_hsv = np.array([170,100,0])\n",
    "upper_red_hsv = np.array([180,255,255])\n",
    "\n",
    "lower_red_bgr=np.array([0, 0, 30])\n",
    "upper_red_bgr=np.array([80, 80, 255])\n",
    "\n",
    "mask_hsv=cv2.inRange(img_hsv,lower_red_hsv,upper_red_hsv)\n",
    "mask_bgr=cv2.inRange(image,lower_red_bgr,upper_red_bgr)\n",
    "#mask_hsv=mask_hsv.astype('bool')\n",
    "#mask_bgr=mask_bgr.astype('bool')\n",
    "masks=mask_hsv+mask_bgr\n",
    "#result=image*np.dstack((masks,masks,masks))\n",
    "#cv2.imshow('original image',image)#mask_hsv before 'bool' type\n",
    "#cv2.imshow('detection_hsv',mask_hsv)#mask_bgr before 'bool' type\n",
    "#cv2.imshow('detection_bgr',mask_bgr)\n",
    "cv2.imshow('detection_hsv+bgr',image)\n",
    "\n",
    "\n",
    "#myShow(\"Resulting image by adding both the masks\", im * np.dstack((im_red_ball_mask_full, im_red_ball_mask_full, im_red_ball_mask_full)))\n",
    "\n",
    "\n",
    "cv2.waitKey(0)\n",
    "cv2.destroyAllWindows()"
   ]
  },
  {
   "cell_type": "code",
   "execution_count": 32,
   "metadata": {},
   "outputs": [],
   "source": [
    "image = cv2.imread('dots.jpg')\n",
    "\n",
    "lower_red_bgr=np.array([0, 0, 180])\n",
    "upper_red_bgr=np.array([60, 60, 255])\n",
    "\n",
    "lower_red_hsv_a = np.array([170,125,0])\n",
    "upper_red_hsv_a = np.array([180,255,255])\n",
    "\n",
    "lower_red_hsv_b = np.array([0,125,0])\n",
    "upper_red_hsv_b = np.array([10,255,255])"
   ]
  },
  {
   "cell_type": "code",
   "execution_count": 33,
   "metadata": {},
   "outputs": [],
   "source": [
    "blurred = cv2.GaussianBlur(image, (11, 11), 0)\n",
    "hsv=cv2.cvtColor(blurred,cv2.COLOR_BGR2HSV)\n",
    "#     mask_bgr=cv2.inRange(hsv,lower_red_bgr,upper_red_bgr)\n",
    "mask_bgr_a = cv2.inRange(hsv,lower_red_hsv_a,upper_red_hsv_a)\n",
    "mask_bgr_b = cv2.inRange(hsv,lower_red_hsv_b,upper_red_hsv_b)\n",
    "mask_bgr = mask_bgr_a + mask_bgr_b\n",
    "#remove noise\n",
    "mask_bgr = cv2.erode(mask_bgr, None, iterations=2)\n",
    "mask_bgr = cv2.dilate(mask_bgr, None, iterations=2)\n",
    "\n",
    "# find the objects\n",
    "cnts = cv2.findContours(mask_bgr.copy(), cv2.RETR_EXTERNAL,cv2.CHAIN_APPROX_SIMPLE)\n",
    "contours = cnts\n",
    "cnts = imutils.grab_contours(cnts)\n",
    "#     cnts = sorted(cnts, key=lambda x: cv2.contourArea(x))\n",
    "#     cnts = sorted(cnts, key=cv2.contourArea)\n",
    "center = list()\n",
    "\n",
    "n = min(len(cnts),4)\n",
    "for i in range(n):\n",
    "    # find the 4 largest contours in the mask, then use\n",
    "    # it to compute the centroid\n",
    "    c = cnts[i]\n",
    "    M = cv2.moments(c)\n",
    "    center.append((int(M[\"m10\"] / M[\"m00\"]), int(M[\"m01\"] / M[\"m00\"])))\n",
    "    # only proceed if the radius meets a minimum size\n",
    "    #cv2.drawContours(frame, contours, i,  (255, 0, 0), 1)\n",
    "    cv2.circle(image, center[i], 1, (0, 255, 0), -1)"
   ]
  },
  {
   "cell_type": "code",
   "execution_count": null,
   "metadata": {},
   "outputs": [],
   "source": [
    "cv2.imshow('detection_hsv+bgr',image)\n",
    "\n",
    "cv2.waitKey(0)\n",
    "cv2.destroyAllWindows()"
   ]
  },
  {
   "cell_type": "code",
   "execution_count": null,
   "metadata": {},
   "outputs": [],
   "source": []
  }
 ],
 "metadata": {
  "kernelspec": {
   "display_name": "Python 3",
   "language": "python",
   "name": "python3"
  },
  "language_info": {
   "codemirror_mode": {
    "name": "ipython",
    "version": 3
   },
   "file_extension": ".py",
   "mimetype": "text/x-python",
   "name": "python",
   "nbconvert_exporter": "python",
   "pygments_lexer": "ipython3",
   "version": "3.7.1"
  }
 },
 "nbformat": 4,
 "nbformat_minor": 2
}
