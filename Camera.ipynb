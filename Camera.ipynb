{
 "cells": [
  {
   "cell_type": "code",
   "execution_count": 2,
   "metadata": {},
   "outputs": [],
   "source": [
    "import numpy as np\n",
    "import cv2\n",
    "import time"
   ]
  },
  {
   "cell_type": "code",
   "execution_count": 39,
   "metadata": {},
   "outputs": [
    {
     "name": "stdout",
     "output_type": "stream",
     "text": [
      "res\n",
      "(640, 480)\n",
      "30.0\n"
     ]
    }
   ],
   "source": [
    "cap = cv2.VideoCapture(0)\n",
    "if not cap.isOpened():\n",
    "    print(\"Cam open failed\")\n",
    "else:\n",
    "#     cap.set(cv2.CAP_PROP_FRAME_WIDTH,1920); # 1080p\n",
    "#     cap.set(cv2.CAP_PROP_FRAME_HEIGHT,1080); # 1080p\n",
    "    \n",
    "#     cap.set(cv2.CAP_PROP_FRAME_WIDTH,1280); # 720p\n",
    "#     cap.set(cv2.CAP_PROP_FRAME_HEIGHT,720); # 720p\n",
    "    \n",
    "    # Check the resolution\n",
    "    frame_size = (int(cap.get(cv2.CAP_PROP_FRAME_WIDTH)),\n",
    "                  int(cap.get(cv2.CAP_PROP_FRAME_HEIGHT)))\n",
    "    print('res'),print(frame_size)\n",
    "    \n",
    "    ret, frame = cap.read()\n",
    "    cv2.imshow('Preview',frame)\n",
    "\n",
    "    # print(cap.get(cv2.CAP_PROP_FPS))\n",
    "    # cap.set(cv2.CAP_PROP_FPS, 30)\n",
    "    print(cap.get(cv2.CAP_PROP_FPS))\n",
    "\n",
    "\n",
    "\n",
    "old = time.time()\n",
    "while(cap.isOpened()):\n",
    "    # Capture frame-by-frame\n",
    "    ret, frame = cap.read()\n",
    "\n",
    "    # Our operations on the frame come here\n",
    "    gray = cv2.cvtColor(frame, cv2.COLOR_BGR2GRAY)\n",
    "\n",
    "    # Display the frames per second\n",
    "    now = time.time()\n",
    "    fps = 1/(now - old)\n",
    "    fps_text = \"FPS : %0.0f\" % fps\n",
    "    old = now\n",
    "    cv2.putText(frame, fps_text, (0, 10), cv2.FONT_HERSHEY_DUPLEX, 0.5, (0, 255, 0))\n",
    "    \n",
    "    # Display the resulting frame\n",
    "    cv2.imshow('Preview',frame)\n",
    "    \n",
    "    # exit on ESC\n",
    "    key = cv2.waitKey(1)\n",
    "    if key == 27:\n",
    "        break\n",
    "\n",
    "# When everything done, release the capture\n",
    "cap.release()\n",
    "cv2.destroyAllWindows()"
   ]
  },
  {
   "cell_type": "code",
   "execution_count": null,
   "metadata": {},
   "outputs": [],
   "source": []
  },
  {
   "cell_type": "code",
   "execution_count": null,
   "metadata": {},
   "outputs": [],
   "source": []
  }
 ],
 "metadata": {
  "kernelspec": {
   "display_name": "Python 3",
   "language": "python",
   "name": "python3"
  },
  "language_info": {
   "codemirror_mode": {
    "name": "ipython",
    "version": 3
   },
   "file_extension": ".py",
   "mimetype": "text/x-python",
   "name": "python",
   "nbconvert_exporter": "python",
   "pygments_lexer": "ipython3",
   "version": "3.7.4"
  }
 },
 "nbformat": 4,
 "nbformat_minor": 2
}
