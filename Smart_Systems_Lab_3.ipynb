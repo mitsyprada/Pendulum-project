{
 "cells": [
  {
   "cell_type": "markdown",
   "metadata": {},
   "source": [
    "# Lab 3 - Twin and control\n",
    "\n",
    "In this lab we will learn an model of the pendulum either with your own data or for now artificial data. \n",
    "You will need the implementation of the motor class from lab 1 in this lab.\n",
    "\n",
    "The following things will be done in this lab:\n",
    "\n",
    "* Learn a model of a the pendulum with curve fitting an Neural network\n",
    "* Experiment with the amount and values of data \n",
    "  \n",
    "    The control problem is split up in 2 parts: swing up and balance.  \n",
    "    For the swing up control part:   \n",
    "     \n",
    "     \n",
    "* Implement the motor class and evaluate the best first motor action\n",
    "* Sequentially do this for every new state of the pendulum until the angle is pi radius\n",
    "     \n",
    "    For the balance part:  \n",
    "         \n",
    "         \n",
    "* Implement and experiment with PID control\n",
    "* Evaluate the movement of pivot point (what is the range)\n"
   ]
  },
  {
   "cell_type": "code",
   "execution_count": 108,
   "metadata": {},
   "outputs": [],
   "source": [
    "import matplotlib.pyplot as plt\n",
    "from scipy.optimize import curve_fit\n",
    "import numpy as np\n",
    "from sklearn.neural_network import MLPRegressor"
   ]
  },
  {
   "cell_type": "code",
   "execution_count": 56,
   "metadata": {},
   "outputs": [],
   "source": [
    "#our estimaded function\n",
    "def model(X, mu, L, g):\n",
    "    theta, theta_dot = X\n",
    "    return -mu * theta_dot - (g/L) * np.sin(theta)"
   ]
  },
  {
   "cell_type": "code",
   "execution_count": 57,
   "metadata": {},
   "outputs": [],
   "source": [
    "# change these parameters to more realistic values\n",
    "mu = 0.3\n",
    "L = 3\n",
    "g = 9.8"
   ]
  },
  {
   "cell_type": "code",
   "execution_count": 53,
   "metadata": {},
   "outputs": [],
   "source": [
    "# To make use of scipy.optimize curve_fit this is the form we should present the model\n",
    "# watch https://www.youtube.com/watch?v=tl5QNhSe0Yk to fresh up your knowledge on curve fitting\n",
    "def model(X, mu, L, g):\n",
    "    theta, theta_dot = X\n",
    "    return ''' return the angular acceleration of the pendulum theta is the angle, thata dot the angular velocity''' \n",
    "# (g/L should be in brackets)"
   ]
  },
  {
   "cell_type": "markdown",
   "metadata": {},
   "source": [
    "If you make use of your own created data from the pendulum,  \n",
    "you will need to calculate the angular speed so that you will have both state parameters.  \n",
    "Here we will create some noisy data: that we can use for curve fitting."
   ]
  },
  {
   "cell_type": "code",
   "execution_count": 94,
   "metadata": {},
   "outputs": [
    {
     "name": "stdout",
     "output_type": "stream",
     "text": [
      "[ 3.01461367e-01  5.05529288e-01  7.04354101e-01  9.02577468e-01\n",
      "  1.08964274e+00  1.28592939e+00  1.46900604e+00  1.65373777e+00\n",
      "  1.83192369e+00  1.99741022e+00  2.16046413e+00  2.32505864e+00\n",
      "  2.46830901e+00  2.60485547e+00  2.73417278e+00  2.86255632e+00\n",
      "  2.96466913e+00  3.06408929e+00  3.15098199e+00  3.22673481e+00\n",
      "  3.29369365e+00  3.33969590e+00  3.38515146e+00  3.40567033e+00\n",
      "  3.42033886e+00  3.42582380e+00  3.40944720e+00  3.38190260e+00\n",
      "  3.34163879e+00  3.29882061e+00  3.23099705e+00  3.15642953e+00\n",
      "  3.07319718e+00  2.96518485e+00  2.86364763e+00  2.73873424e+00\n",
      "  2.60790406e+00  2.46778051e+00  2.31408721e+00  2.14980819e+00\n",
      "  1.98861437e+00  1.80815182e+00  1.62855163e+00  1.43399976e+00\n",
      "  1.24840484e+00  1.04044523e+00  8.43026121e-01  6.33649495e-01\n",
      "  4.22691098e-01  2.11801977e-01  1.62092444e-03 -2.02775701e-01\n",
      " -4.19623875e-01 -6.28297211e-01 -8.34841166e-01 -1.03416952e+00\n",
      " -1.22932605e+00 -1.42883531e+00 -1.61804999e+00 -1.79519004e+00\n",
      " -1.97728046e+00 -2.13922617e+00 -2.30219826e+00 -2.45193754e+00\n",
      " -2.59581426e+00 -2.72336131e+00 -2.85170036e+00 -2.95487957e+00\n",
      " -3.05867567e+00 -3.14470411e+00 -3.22375580e+00 -3.28170756e+00\n",
      " -3.33464685e+00 -3.37843623e+00 -3.39944276e+00 -3.41248953e+00\n",
      " -3.41375997e+00 -3.39884577e+00 -3.37483714e+00 -3.33139754e+00\n",
      " -3.27707926e+00 -3.21804932e+00 -3.14658299e+00 -3.06010468e+00\n",
      " -2.95607812e+00 -2.84415708e+00 -2.73225388e+00 -2.59796136e+00\n",
      " -2.45853133e+00 -2.30663745e+00 -2.15321505e+00 -1.99314327e+00\n",
      " -1.82380659e+00 -1.64012578e+00 -1.46443337e+00 -1.27138961e+00\n",
      " -1.08324429e+00 -8.93094159e-01 -6.90841244e-01 -4.92988640e-01]\n"
     ]
    }
   ],
   "source": [
    "# Some artificially noisy data to fit, x and y are theta and theta_dot and z is the model output with some noise. \n",
    "# z is theta_double_dot.\n",
    "# change the g_range to give the data generation a broader scope of values. Experiment with the effect.\n",
    "\n",
    "g_range = 1.\n",
    "data_size = 101\n",
    "\n",
    "x = np.linspace(-g_range*np.pi,g_range*np.pi,data_size)\n",
    "y = np.linspace(-g_range,g_range, data_size)\n",
    "z = model((x,y), mu, L, g) * 1 + np.random.random(data_size) / 100\n",
    "print(z[:100])"
   ]
  },
  {
   "cell_type": "code",
   "execution_count": 59,
   "metadata": {},
   "outputs": [
    {
     "name": "stdout",
     "output_type": "stream",
     "text": [
      "[3.00813699e-01 1.24534242e+04 4.06822207e+04]\n"
     ]
    }
   ],
   "source": [
    "#these are your initialization values of the model parameters\n",
    "p0 = 2.5, 2., 9.8\n",
    "#fit function with some initial parameters for mu, L and g\n",
    "f = curve_fit(model, (x,y), z, p0)\n",
    "print(f[0])"
   ]
  },
  {
   "cell_type": "markdown",
   "metadata": {},
   "source": [
    "**Question [5 points]:** Plot different learned model parameters by increasing the amount of data. Explain what you see. Wich parameter can we fit and wich one not? come up with an explanaition. For every combination of learned g and L calculate the ratio. "
   ]
  },
  {
   "cell_type": "markdown",
   "metadata": {},
   "source": [
    "**Question [5 points]:** Randomly initialize p0 200 times and apply the curve_fit.  \n",
    "Explain the results and plot the parameters as below.  "
   ]
  },
  {
   "cell_type": "code",
   "execution_count": null,
   "metadata": {},
   "outputs": [],
   "source": [
    "# Show histogram of values from randomly learning \n",
    "fig, axs = plt.subplots(1, 2, sharey=True, tight_layout=True)\n",
    "axs[0].hist(p0_mu, bins=n_bins)\n",
    "axs[1].hist(p0_g/p0_L, bins=n_bins)"
   ]
  },
  {
   "cell_type": "markdown",
   "metadata": {},
   "source": [
    "Now we are going to train a neural network to learn the model. \n",
    "**Question [5 points]:** Experiment with the model hidden_layer_sizes and evaluate the predictions to the actual values using least_squered_error. What is the best model that you found? Also experiment with the alpha > this is a so called regularization term that penalizes large parameter values in the model. check out sklearn for the documentation https://scikit-learn.org/stable/modules/generated/sklearn.neural_network.MLPRegressor.html#sklearn.neural_network.MLPRegressor"
   ]
  },
  {
   "cell_type": "code",
   "execution_count": 114,
   "metadata": {},
   "outputs": [
    {
     "name": "stdout",
     "output_type": "stream",
     "text": [
      "[-0.22106673]\n"
     ]
    }
   ],
   "source": [
    "X = list(zip(x,y))\n",
    "Y = z\n",
    "clf = MLPRegressor(solver='lbfgs', alpha=1e-5, hidden_layer_sizes=(5, 2), random_state=1)\n",
    "clf.fit(X, Y)\n",
    "print(clf.predict([[np.pi, 0.]]))"
   ]
  },
  {
   "cell_type": "code",
   "execution_count": null,
   "metadata": {},
   "outputs": [],
   "source": [
    "from sklearn.metrics import mean_squared_error\n",
    "mean_squared_error(y_true, y_predict)"
   ]
  },
  {
   "cell_type": "markdown",
   "metadata": {},
   "source": [
    "**Question [5 points]:** now visualize the phase portrait as learned with the neural network  \n",
    "and inspect where the behaviour seems to be predicted correct and incorrect."
   ]
  },
  {
   "cell_type": "markdown",
   "metadata": {},
   "source": [
    "# Controls\n",
    "from lab one you'll need a couple of things. Namly the motor class and get_theta_double_dot_with_a."
   ]
  },
  {
   "cell_type": "code",
   "execution_count": null,
   "metadata": {},
   "outputs": [],
   "source": [
    "def get_theta_double_dot_with_a(theta, theta_dot, a_motor):\n",
    "    return ''' return the angular acceleration of the pendulum. '''  "
   ]
  },
  {
   "cell_type": "code",
   "execution_count": null,
   "metadata": {},
   "outputs": [],
   "source": [
    "class Motor_Acc:\n",
    "    def __init__(self, direction, speed, duration):\n",
    "        self.direction = direction\n",
    "        self.speed = speed\n",
    "        self.duration = duration\n",
    "        self.time = 0\n",
    "        self.func = self.create_func()\n",
    "    \n",
    "    def create_func(self):\n",
    "        ''' Create a list of acceleration values so that every step correspons to a step in simulation.\n",
    "        Use the direction, speed and duration to create this list.\n",
    "        In a next Lab we will use the data of the prototype to fit a function. \n",
    "        If you want to create a function now, that is fine.\n",
    "        '''\n",
    "        return func_list #or some function\n",
    "        \n",
    "    def tik(self):\n",
    "        '''\n",
    "        return the acceleration at a given time and shift the time\n",
    "        '''\n",
    "        self.time = self.time + 1\n",
    "        if self.time < self.duration:\n",
    "            return self.func[self.time]\n",
    "        else:\n",
    "            return 0. #return an acceleration of 0\n",
    "    \n",
    "    def set_motor(self, direction, speed, duration):\n",
    "        self.direction = direction\n",
    "        self.speed = speed\n",
    "        self.duration = duration\n",
    "        self.time = 0\n",
    "        self.func = self.create_func()"
   ]
  },
  {
   "cell_type": "code",
   "execution_count": null,
   "metadata": {},
   "outputs": [],
   "source": [
    "def state_with_motor(t):\n",
    "    theta = THETA_0\n",
    "    theta_dot = THETA_DOT_0\n",
    "    delta_t = 0.1\n",
    "    for time in np.arange(0,t,delta_t):\n",
    "        a_of_motor = motor.tik()\n",
    "        theta_double_dot = get_theta_double_dot_with_a(theta, theta_dot, a_of_motor)\n",
    "        theta += theta_dot * delta_t\n",
    "        theta_dot += theta_double_dot * delta_t\n",
    "    return theta, theta_dot"
   ]
  },
  {
   "cell_type": "markdown",
   "metadata": {},
   "source": [
    "**Question [5 points]:** Add multiple configurations to estimate the best first motor action to choose.   \n",
    "Do this by simulating and saving the final angle and angular speed.  \n",
    "The largest angular speed will give you the best move.  \n",
    "However due to constrains in the real world, you now need to also keep track of the pivot location."
   ]
  },
  {
   "cell_type": "markdown",
   "metadata": {},
   "source": [
    "**Question [5 points]:** Evaluate what the new location of the pivot point will be.   \n",
    "You can calculate with the use of the acceleration profile of the motor control.    \n",
    "Is this acceptable? If not find and acceptable move."
   ]
  },
  {
   "cell_type": "code",
   "execution_count": null,
   "metadata": {},
   "outputs": [],
   "source": [
    "directions = [...,...]\n",
    "speeds = [...,...]\n",
    "durations = [...,...]\n",
    "\n",
    "outcomes = []\n",
    "# Initial conditions of pendulum\n",
    "THETA_0 = 0\n",
    "THETA_DOT_0 = 0\n",
    "\n",
    "for n in range(x):\n",
    "    motor = Motor_Acc(directions[n], speeds[n], duration[n])\n",
    "    theta, theta_dot = state_with_motor(duration[n]) #+some delay if you moddeld a delay from trigger point to actuation.\n",
    "    outcomes.append([theta, theta_dot])"
   ]
  },
  {
   "cell_type": "markdown",
   "metadata": {},
   "source": [
    "**Question [5 points]:** Now save the new theta and theta_dot that are the best motor action and start the same process again.  \n",
    "repeat until the theta is close to pi (+-3)."
   ]
  },
  {
   "cell_type": "markdown",
   "metadata": {},
   "source": [
    "Now for the upward balance we will do with PID control.  \n",
    "This video might help you to understand PID: https://www.youtube.com/watch?v=UR0hOmjaHp0  \n",
    "Now the problem of control is a continues one so we can ignore using the motor class for now."
   ]
  },
  {
   "cell_type": "code",
   "execution_count": 150,
   "metadata": {},
   "outputs": [],
   "source": [
    "def pid_control(t, THETA_0,THETA_DOT_0, a, goal):\n",
    "    theta = THETA_0\n",
    "    theta_dot = THETA_DOT_0\n",
    "    list_t = []\n",
    "    list_e = []\n",
    "    delta_t = 0.01#choose a delta in time to compute\n",
    "    for time in np.arange(0,t,delta_t):\n",
    "        theta_double_dot = get_theta_double_dot_with_a(theta, theta_dot, a)\n",
    "        theta += theta_dot * delta_t\n",
    "        theta_dot += theta_double_dot * delta_t\n",
    "        \n",
    "        error= goal-theta\n",
    "        \n",
    "        p = ...\n",
    "        i = ...\n",
    "        d = ...\n",
    "        \n",
    "        if len(list_td)>0:\n",
    "            # We need at least one step in simulation to be able to make use of an Integral or derivative component.\n",
    "            a = p*error + i*(error_sum) + d*(error-previous_error)\n",
    "        else:\n",
    "            # the first step can only be a Proportional change\n",
    "            a = p*error\n",
    "        list_t.append(theta)\n",
    "        list_e.append(error)\n",
    "        print(a)\n",
    "    return list_t, list_e"
   ]
  },
  {
   "cell_type": "code",
   "execution_count": null,
   "metadata": {},
   "outputs": [],
   "source": [
    "#lest say we start with an acceleration of 0\n",
    "# for now we manipulate a directly to get an idea of how we should control things.\n",
    "a = 0\n",
    "simulation_time = 20\n",
    "# we now simulate what happens over time with theta and the error. \n",
    "# The error is the difference between the goal of pi radius and the actual theta. \n",
    "theta_list,error_list = pid_control(simulation_time, np.pi-0.03, -0.01, a, np.pi)\n",
    "\n",
    "plt.plot(range(len(theta_list)), theta_list)\n",
    "plt.show()"
   ]
  },
  {
   "cell_type": "markdown",
   "metadata": {},
   "source": [
    "**Question [5 points]:** What type of controller do we need P? PD? PI? or PID? explain why."
   ]
  },
  {
   "cell_type": "markdown",
   "metadata": {},
   "source": [
    "Now the goal of a PID is to stabilize a system, hopefully as quick as possible.  \n",
    "**Question [5 points]:** Implement the controller, explore different settings.  \n",
    "Find the settings so that the model can be controlled in the range of pi-0.1 until pi+0.1"
   ]
  },
  {
   "cell_type": "markdown",
   "metadata": {},
   "source": [
    "**Question [5 points]:** Now also return the list of a values in the function pid_control and calculate and plot the pivot location over time. Is this acceptable or is it necessary to change the controls because the deflections are to large?"
   ]
  },
  {
   "cell_type": "code",
   "execution_count": 40,
   "metadata": {},
   "outputs": [
    {
     "data": {
      "image/png": "[encoded data removed]",
      "text/plain": [
       "<Figure size 432x288 with 1 Axes>"
      ]
     },
     "metadata": {},
     "output_type": "display_data"
    }
   ],
   "source": []
  },
  {
   "cell_type": "code",
   "execution_count": 151,
   "metadata": {},
   "outputs": [
    {
     "data": {
      "image/png": "[encoded data removed]",
      "text/plain": [
       "<Figure size 432x288 with 1 Axes>"
      ]
     },
     "metadata": {},
     "output_type": "display_data"
    }
   ],
   "source": []
  }
 ],
 "metadata": {
  "kernelspec": {
   "display_name": "Python 3",
   "language": "python",
   "name": "python3"
  },
  "language_info": {
   "codemirror_mode": {
    "name": "ipython",
    "version": 3
   },
   "file_extension": ".py",
   "mimetype": "text/x-python",
   "name": "python",
   "nbconvert_exporter": "python",
   "pygments_lexer": "ipython3",
   "version": "3.7.1"
  }
 },
 "nbformat": 4,
 "nbformat_minor": 2
}
