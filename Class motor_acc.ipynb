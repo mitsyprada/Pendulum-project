{
 "cells": [
  {
   "cell_type": "code",
   "execution_count": null,
   "metadata": {},
   "outputs": [],
   "source": [
    "class Motor_Acc:\n",
    "    def __init__(self, direction, speed, duration):\n",
    "        self.direction = direction\n",
    "        self.speed = speed\n",
    "        self.duration = duration\n",
    "        self.time = 0\n",
    "        self.func = self.create_func()\n",
    "    def control_motor(direction, time):\n",
    "        d = int(direction+1)\n",
    "        if time < 100: \n",
    "            z = str(d) + '00' + str(time)\n",
    "        else:\n",
    "            z = str(d) + '0' + str(time)\n",
    "    \n",
    "        f = bytes(z, encoding='utf-8')\n",
    "        print(z)\n",
    "        arduinoData.write(f)\n",
    "    \n",
    "    def create_func(self):\n",
    "        ''' Create a list of acceleration values so that every step correspons to a step in simulation.\n",
    "        Use the direction, speed and duration to create this list.\n",
    "        In a next Lab we will use the data of the prototype to fit a function. \n",
    "        If you want to create a function now, that is fine.\n",
    "        '''\n",
    "        for i in range(1,10):\n",
    "            #Examples\n",
    "            print(i%2, i*10)\n",
    "            control_motor(i%2, i*10)\n",
    "            time.sleep(5)\n",
    "        return func_list #or some function\n",
    "\n",
    "    \n",
    "        \n",
    "    def tik(self):\n",
    "        '''\n",
    "        return the acceleration at a given time and shift the time\n",
    "        '''\n",
    "        self.time = self.time + 1\n",
    "        if self.time < self.duration:\n",
    "            return self.func[self.time]\n",
    "        else:\n",
    "            return 0. #return an acceleration of 0\n",
    "    \n",
    "    def set_motor(self, direction, speed, duration):\n",
    "        self.direction = direction\n",
    "        self.speed = speed\n",
    "        self.duration = duration\n",
    "        self.time = 0\n",
    "        self.func = self.create_func()"
   ]
  }
 ],
 "metadata": {
  "kernelspec": {
   "display_name": "Python 3",
   "language": "python",
   "name": "python3"
  },
  "language_info": {
   "codemirror_mode": {
    "name": "ipython",
    "version": 3
   },
   "file_extension": ".py",
   "mimetype": "text/x-python",
   "name": "python",
   "nbconvert_exporter": "python",
   "pygments_lexer": "ipython3",
   "version": "3.7.3"
  }
 },
 "nbformat": 4,
 "nbformat_minor": 2
}
